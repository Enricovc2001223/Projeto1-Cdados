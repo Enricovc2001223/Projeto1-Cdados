{
 "cells": [
  {
   "cell_type": "markdown",
   "metadata": {},
   "source": [
    "# Projeto 1 - Ciência dos Dados"
   ]
  },
  {
   "cell_type": "markdown",
   "metadata": {},
   "source": [
    "Nome: Enrico Costa\n",
    "\n",
    "\n",
    "\n",
    "Turma: 2C"
   ]
  },
  {
   "cell_type": "markdown",
   "metadata": {},
   "source": [
    "## Pergunta (s) a ser respondida"
   ]
  },
  {
   "cell_type": "markdown",
   "metadata": {},
   "source": [
    " Países membros do Mercosul apresentam evolução significativa na taxa de desempregados entre (25-54 anos)?\n"
   ]
  },
  {
   "cell_type": "markdown",
   "metadata": {},
   "source": [
    "## Explicação da hipótese e mecanismo"
   ]
  },
  {
   "cell_type": "markdown",
   "metadata": {},
   "source": [
    "\n",
    "\n",
    "Mercado Comum do Sul é uma organização intergovernamental fundada a partir do Tratado de Asunção de 1991. Essa organização cria um integração econômica,apresentando hoje em dia como uma união aduaneira ( livre comércio intrazona e política comercial comum entre os membros ). Sendo assim é possível imaginar que um país membro de Mercosul tenha uma taxa de desemprego menor por conta do estímulo ao comércio e acordos de negócios entre países, fazendo com que a economia seja alavancada e aumentando assim oportunidades de emprego para a população.\n",
    "\n",
    "Variáveis--> \n",
    "\n",
    "Taxa de Desemprego: Porcentagem da população entre 25-54 anos que foi registrado como desempregado durante ano específico\n",
    "\n",
    "\n",
    "\n",
    "GDP/Capita: Produto Interno Bruto considerando a inflação.\n",
    "\n",
    "\n",
    "Mecanismo: Para concluir o projeto será feito uma análise entre o desemprego e o GDP/capita entre países do Mercosul,América do Sul e o restante dos países mundiais durante um período determinado de tempo."
   ]
  },
  {
   "cell_type": "markdown",
   "metadata": {},
   "source": [
    "## Bases de dados usadas"
   ]
  },
  {
   "cell_type": "markdown",
   "metadata": {},
   "source": [
    "\n",
    "International Labour Organization\t\n",
    "Link to source organization\thttp://www.ilo.org/global/lang--en/index.htm\t\n",
    "Complete reference\tKey Indicators of the Labour Market Programme\t\n",
    "Link to complete reference\thttp://www.ilo.org/public/english/employment/strat/kilm/download.htm\t\n",
    "\n",
    "World Bank\t\n",
    "Link to source organization\thttp://www.worldbank.org/\t\n",
    "Complete reference\tWorld Bank World Development Indicators\t\n",
    "Link to complete reference\thttp://data.worldbank.org/indicator/NY.GDP.PCAP.KD\n",
    "\n",
    "Mercosul information\n",
    "http://www.mercosul.gov.br/\n",
    "\n"
   ]
  },
  {
   "cell_type": "markdown",
   "metadata": {},
   "source": [
    "## Análise de dados"
   ]
  },
  {
   "cell_type": "markdown",
   "metadata": {},
   "source": [
    "Insira abaixo uma análise de dados tratada para ter maior clareza. \n",
    "\n",
    "Lembre-se de que, além deste arquivo principal, você precisa entregar um ou mais *notebooks* mais brutos com todas as tentativas que fez e que não deram certo .\n",
    "\n",
    "**Não inclua dados ou gráficos sem motivação nem interpretação** - sempre que fizer uma análise, plot ou tablea, diga qual sua intenção. Logo após a apresentação diga qual conclusão específica ou interpretação você tira daquela análise"
   ]
  },
  {
   "cell_type": "code",
   "execution_count": 468,
   "metadata": {},
   "outputs": [],
   "source": [
    "%matplotlib inline\n",
    "import pandas as pd\n",
    "import matplotlib.pyplot as plt\n",
    "import os\n",
    "from numpy import arange\n",
    "from numpy import percentile\n",
    "import numpy as np"
   ]
  },
  {
   "cell_type": "code",
   "execution_count": 469,
   "metadata": {},
   "outputs": [],
   "source": [
    "desemprego=pd.read_excel(\"desemp.xlsx\")\n",
    "renda=pd.read_excel(\"gdpcapita.xlsx\")"
   ]
  },
  {
   "cell_type": "markdown",
   "metadata": {},
   "source": [
    "## 2005"
   ]
  },
  {
   "cell_type": "code",
   "execution_count": 470,
   "metadata": {},
   "outputs": [],
   "source": [
    "desemp2005=desemprego.loc[:, [\"country\", 2005]]\n",
    "renda2005=renda.loc[:, [\"country\", 2005]]"
   ]
  },
  {
   "cell_type": "code",
   "execution_count": 471,
   "metadata": {},
   "outputs": [],
   "source": [
    "desemprego2005_idx = desemp2005.set_index(\"country\")\n",
    "renda_2005_idx = renda2005.set_index(\"country\")\n",
    "\n"
   ]
  },
  {
   "cell_type": "code",
   "execution_count": 472,
   "metadata": {},
   "outputs": [],
   "source": [
    "junto_2005=desemprego2005_idx.join(renda_2005_idx,how=\"inner\",lsuffix=\": desemprego\",rsuffix=\": renda\")"
   ]
  },
  {
   "cell_type": "markdown",
   "metadata": {},
   "source": [
    "## América do Sul e Mercosul (2005)"
   ]
  },
  {
   "cell_type": "code",
   "execution_count": 473,
   "metadata": {},
   "outputs": [],
   "source": [
    "junto_2005[\"America do Sul\"]=\"Não\"\n",
    "junto_2005.loc[\"Argentina\",\"America do Sul\"]=\"Sim\"\n",
    "junto_2005.loc[\"Peru\",\"America do Sul\"]=\"Sim\"\n",
    "junto_2005.loc[\"Suriname\",\"America do Sul\"]=\"Sim\"\n",
    "junto_2005.loc[\"Uruguay\",\"America do Sul\"]=\"Sim\"\n",
    "junto_2005.loc[\"Colombia\",\"America do Sul\"]=\"Sim\"\n",
    "junto_2005.loc[\"Brazil\",\"America do Sul\"]=\"Sim\"\n",
    "junto_2005.loc[\"Venezuela\",\"America do Sul\"]=\"Sim\"\n",
    "junto_2005.loc[\"Chile\",\"America do Sul\"]=\"Sim\"\n",
    "junto_2005.loc[\"Bolivia\",\"America do Sul\"]=\"Sim\"\n",
    "junto_2005.loc[\"Paraguay\",\"America do Sul\"]=\"Sim\"\n",
    "junto_2005.loc[\"Guyana\",\"America do Sul\"]=\"Sim\"\n",
    "junto_2005.loc[\"Ecuador\",\"America do Sul\"]=\"Sim\"\n",
    "junto_2005\n",
    "\n",
    "junto_2005[\"Mercosul\"]=\"Não\"\n",
    "junto_2005.loc[\"Argentina\",\"Mercosul\"]=\"Sim\"\n",
    "junto_2005.loc[\"Paraguay\",\"Mercosul\"]=\"Sim\"\n",
    "junto_2005.loc[\"Brazil\",\"Mercosul\"]=\"Sim\"\n",
    "junto_2005.loc[\"Uruguay\",\"Mercosul\"]=\"Sim\""
   ]
  },
  {
   "cell_type": "code",
   "execution_count": 474,
   "metadata": {
    "scrolled": true
   },
   "outputs": [],
   "source": [
    "America_sul2005=junto_2005.loc[junto_2005[\"America do Sul\"]==\"Sim\"]\n"
   ]
  },
  {
   "cell_type": "code",
   "execution_count": 475,
   "metadata": {},
   "outputs": [],
   "source": [
    "dados2005=junto_2005[junto_2005.Mercosul==\"Sim\"]\n"
   ]
  },
  {
   "cell_type": "markdown",
   "metadata": {},
   "source": [
    "## 2015"
   ]
  },
  {
   "cell_type": "code",
   "execution_count": 476,
   "metadata": {},
   "outputs": [],
   "source": [
    "desemp2015=desemprego.loc[:, [\"country\", 2015]]\n",
    "renda2015=renda.loc[:, [\"country\", 2015]]"
   ]
  },
  {
   "cell_type": "code",
   "execution_count": 477,
   "metadata": {},
   "outputs": [],
   "source": [
    "desemprego2015_idx = desemp2015.set_index(\"country\")\n",
    "renda_2015_idx = renda2015.set_index(\"country\")"
   ]
  },
  {
   "cell_type": "code",
   "execution_count": 478,
   "metadata": {},
   "outputs": [],
   "source": [
    "junto_2015=desemprego2015_idx.join(renda_2015_idx,how=\"inner\",lsuffix=\": desemprego\",rsuffix=\": renda\")\n"
   ]
  },
  {
   "cell_type": "markdown",
   "metadata": {},
   "source": [
    "## América do Sul e Mercosul (2015)"
   ]
  },
  {
   "cell_type": "code",
   "execution_count": 479,
   "metadata": {
    "scrolled": true
   },
   "outputs": [],
   "source": [
    "\n",
    "\n",
    "junto_2015[\"America do Sul\"]=\"Não\"\n",
    "junto_2015.loc[\"Argentina\",\"America do Sul\"]=\"Sim\"\n",
    "junto_2015.loc[\"Peru\",\"America do Sul\"]=\"Sim\"\n",
    "junto_2015.loc[\"Suriname\",\"America do Sul\"]=\"Sim\"\n",
    "junto_2015.loc[\"Uruguay\",\"America do Sul\"]=\"Sim\"\n",
    "junto_2015.loc[\"Colombia\",\"America do Sul\"]=\"Sim\"\n",
    "junto_2015.loc[\"Brazil\",\"America do Sul\"]=\"Sim\"\n",
    "junto_2015.loc[\"Venezuela\",\"America do Sul\"]=\"Sim\"\n",
    "junto_2015.loc[\"Chile\",\"America do Sul\"]=\"Sim\"\n",
    "junto_2015.loc[\"Bolivia\",\"America do Sul\"]=\"Sim\"\n",
    "junto_2015.loc[\"Paraguay\",\"America do Sul\"]=\"Sim\"\n",
    "junto_2015.loc[\"Guyana\",\"America do Sul\"]=\"Sim\"\n",
    "junto_2015.loc[\"Ecuador\",\"America do Sul\"]=\"Sim\"\n",
    "junto_2015\n",
    "\n",
    "\n",
    "junto_2015[\"Mercosul\"]=\"Não\"\n",
    "junto_2015.loc[\"Argentina\",\"Mercosul\"]=\"Sim\"\n",
    "junto_2015.loc[\"Paraguay\",\"Mercosul\"]=\"Sim\"\n",
    "junto_2015.loc[\"Brazil\",\"Mercosul\"]=\"Sim\"\n",
    "junto_2015.loc[\"Uruguay\",\"Mercosul\"]=\"Sim\"\n"
   ]
  },
  {
   "cell_type": "code",
   "execution_count": 515,
   "metadata": {},
   "outputs": [
    {
     "data": {
      "text/html": [
       "<div>\n",
       "<style scoped>\n",
       "    .dataframe tbody tr th:only-of-type {\n",
       "        vertical-align: middle;\n",
       "    }\n",
       "\n",
       "    .dataframe tbody tr th {\n",
       "        vertical-align: top;\n",
       "    }\n",
       "\n",
       "    .dataframe thead th {\n",
       "        text-align: right;\n",
       "    }\n",
       "</style>\n",
       "<table border=\"1\" class=\"dataframe\">\n",
       "  <thead>\n",
       "    <tr style=\"text-align: right;\">\n",
       "      <th></th>\n",
       "      <th>2015: desemprego</th>\n",
       "      <th>2015: renda</th>\n",
       "      <th>America do Sul</th>\n",
       "      <th>Mercosul</th>\n",
       "    </tr>\n",
       "    <tr>\n",
       "      <th>country</th>\n",
       "      <th></th>\n",
       "      <th></th>\n",
       "      <th></th>\n",
       "      <th></th>\n",
       "    </tr>\n",
       "  </thead>\n",
       "  <tbody>\n",
       "    <tr>\n",
       "      <th>Argentina</th>\n",
       "      <td>NaN</td>\n",
       "      <td>10500.0</td>\n",
       "      <td>Sim</td>\n",
       "      <td>Sim</td>\n",
       "    </tr>\n",
       "    <tr>\n",
       "      <th>Bolivia</th>\n",
       "      <td>NaN</td>\n",
       "      <td>2390.0</td>\n",
       "      <td>Sim</td>\n",
       "      <td>Não</td>\n",
       "    </tr>\n",
       "    <tr>\n",
       "      <th>Brazil</th>\n",
       "      <td>6.53</td>\n",
       "      <td>11400.0</td>\n",
       "      <td>Sim</td>\n",
       "      <td>Sim</td>\n",
       "    </tr>\n",
       "    <tr>\n",
       "      <th>Chile</th>\n",
       "      <td>5.94</td>\n",
       "      <td>14900.0</td>\n",
       "      <td>Sim</td>\n",
       "      <td>Não</td>\n",
       "    </tr>\n",
       "    <tr>\n",
       "      <th>Colombia</th>\n",
       "      <td>6.81</td>\n",
       "      <td>7450.0</td>\n",
       "      <td>Sim</td>\n",
       "      <td>Não</td>\n",
       "    </tr>\n",
       "    <tr>\n",
       "      <th>Ecuador</th>\n",
       "      <td>2.95</td>\n",
       "      <td>5350.0</td>\n",
       "      <td>Sim</td>\n",
       "      <td>Não</td>\n",
       "    </tr>\n",
       "    <tr>\n",
       "      <th>Guyana</th>\n",
       "      <td>NaN</td>\n",
       "      <td>3680.0</td>\n",
       "      <td>Sim</td>\n",
       "      <td>Não</td>\n",
       "    </tr>\n",
       "    <tr>\n",
       "      <th>Paraguay</th>\n",
       "      <td>2.94</td>\n",
       "      <td>3820.0</td>\n",
       "      <td>Sim</td>\n",
       "      <td>Sim</td>\n",
       "    </tr>\n",
       "    <tr>\n",
       "      <th>Peru</th>\n",
       "      <td>2.32</td>\n",
       "      <td>5940.0</td>\n",
       "      <td>Sim</td>\n",
       "      <td>Não</td>\n",
       "    </tr>\n",
       "    <tr>\n",
       "      <th>Suriname</th>\n",
       "      <td>6.84</td>\n",
       "      <td>8630.0</td>\n",
       "      <td>Sim</td>\n",
       "      <td>Não</td>\n",
       "    </tr>\n",
       "    <tr>\n",
       "      <th>Uruguay</th>\n",
       "      <td>5.14</td>\n",
       "      <td>13900.0</td>\n",
       "      <td>Sim</td>\n",
       "      <td>Sim</td>\n",
       "    </tr>\n",
       "    <tr>\n",
       "      <th>Venezuela</th>\n",
       "      <td>NaN</td>\n",
       "      <td>NaN</td>\n",
       "      <td>Sim</td>\n",
       "      <td>Não</td>\n",
       "    </tr>\n",
       "  </tbody>\n",
       "</table>\n",
       "</div>"
      ],
      "text/plain": [
       "           2015: desemprego  2015: renda America do Sul Mercosul\n",
       "country                                                         \n",
       "Argentina               NaN      10500.0            Sim      Sim\n",
       "Bolivia                 NaN       2390.0            Sim      Não\n",
       "Brazil                 6.53      11400.0            Sim      Sim\n",
       "Chile                  5.94      14900.0            Sim      Não\n",
       "Colombia               6.81       7450.0            Sim      Não\n",
       "Ecuador                2.95       5350.0            Sim      Não\n",
       "Guyana                  NaN       3680.0            Sim      Não\n",
       "Paraguay               2.94       3820.0            Sim      Sim\n",
       "Peru                   2.32       5940.0            Sim      Não\n",
       "Suriname               6.84       8630.0            Sim      Não\n",
       "Uruguay                5.14      13900.0            Sim      Sim\n",
       "Venezuela               NaN          NaN            Sim      Não"
      ]
     },
     "execution_count": 515,
     "metadata": {},
     "output_type": "execute_result"
    }
   ],
   "source": [
    "America_sul2015=junto_2015.loc[junto_2015[\"America do Sul\"]==\"Sim\"]\n",
    "America_sul2015"
   ]
  },
  {
   "cell_type": "code",
   "execution_count": 514,
   "metadata": {},
   "outputs": [],
   "source": [
    "America_sul2015=junto_2015.loc[junto_2015[\"America do Sul\"]==\"Sim\"]\n",
    "America_sul2015\n",
    "dados2015= junto_2015[junto_2015.Mercosul==\"Sim\"]\n",
    "\n",
    "df1=America_sul2005.loc[(America_sul2005[\"Mercosul\"]==\"Não\"),['2005: desemprego']]\n",
    "df2=America_sul2015.loc[(America_sul2005[\"Mercosul\"]==\"Sim\"),['2015: desemprego']]\n",
    "desemprego2005 = df1[\"2005: desemprego\"]\n",
    "desemprego2015 = df2[\"2015: desemprego\"]      "
   ]
  },
  {
   "cell_type": "code",
   "execution_count": 481,
   "metadata": {},
   "outputs": [],
   "source": [
    "Nmerco2005 = America_sul2005.loc[America_sul2005.Mercosul==\"Não\"]\n",
    "Smerco2005 = America_sul2005.loc[America_sul2005.Mercosul==\"Sim\"]\n",
    "Nmerco2015 = America_sul2015.loc[America_sul2015.Mercosul==\"Não\"]\n",
    "Smerco2015 = America_sul2015.loc[America_sul2015.Mercosul==\"Sim\"]\n"
   ]
  },
  {
   "cell_type": "markdown",
   "metadata": {},
   "source": [
    " ## Média/Mediana desemprego 2005"
   ]
  },
  {
   "cell_type": "code",
   "execution_count": 507,
   "metadata": {
    "scrolled": true
   },
   "outputs": [
    {
     "name": "stdout",
     "output_type": "stream",
     "text": [
      "Média da % do Desemprego(Mercosul):  6.89\n",
      "\n",
      "Média da % do Desemprego(América do Sul):  6.49\n",
      "\n",
      "Mediana da % do Desemprego(Mercosul):  8.35\n",
      "\n",
      "Mediana da % do Desemprego(América do Sul):  7.53\n",
      "\n"
     ]
    },
    {
     "data": {
      "image/png": "[encoded data removed]",
      "text/plain": [
       "<Figure size 576x288 with 1 Axes>"
      ]
     },
     "metadata": {
      "needs_background": "light"
     },
     "output_type": "display_data"
    }
   ],
   "source": [
    "figure = plt.figure(figsize=(8,4))\n",
    "desem1 = Nmerco2005[\"2005: desemprego\"].mean()\n",
    "\n",
    "desem2 = Smerco2005[\"2005: desemprego\"].mean()\n",
    "\n",
    "plt.bar(\"Não pertence ao Mercosul\", desem1)\n",
    "plt.bar(\"Pertence ao Mercosul\", desem2)\n",
    "plt.ylabel(\"Média da % do Desemprego\")\n",
    "plt.grid()\n",
    "\n",
    "print('Média da % do Desemprego(Mercosul): ',round(desem2, 2))\n",
    "print()\n",
    "print('Média da % do Desemprego(América do Sul): ',round(desem1, 2))\n",
    "print()\n",
    "\n",
    "\n",
    "print('Mediana da % do Desemprego(Mercosul): ',round(Smerco2005[\"2005: desemprego\"].median(), 2))\n",
    "print()\n",
    "print('Mediana da % do Desemprego(América do Sul): ',round(Nmerco2005[\"2005: desemprego\"].median(), 2))\n",
    "print()"
   ]
  },
  {
   "cell_type": "code",
   "execution_count": null,
   "metadata": {},
   "outputs": [],
   "source": []
  },
  {
   "cell_type": "markdown",
   "metadata": {},
   "source": [
    "## Média/Mediana desemprego 2015\n"
   ]
  },
  {
   "cell_type": "code",
   "execution_count": 509,
   "metadata": {},
   "outputs": [
    {
     "name": "stdout",
     "output_type": "stream",
     "text": [
      "Média da % do Desemprego(Mercosul):  4.87\n",
      "\n",
      "Média da % do Desemprego(América do Sul):  4.97\n",
      "\n",
      "Mediana da % do Desemprego(Mercosul):  5.14\n",
      "\n",
      "Mediana da % do Desemprego(América do Sul):  5.94\n",
      "\n"
     ]
    },
    {
     "data": {
      "image/png": "[encoded data removed]",
      "text/plain": [
       "<Figure size 576x288 with 1 Axes>"
      ]
     },
     "metadata": {
      "needs_background": "light"
     },
     "output_type": "display_data"
    }
   ],
   "source": [
    "figure = plt.figure(figsize=(8,4))\n",
    "desem1 = Nmerco2015[\"2015: desemprego\"].mean()\n",
    "desem2 = Smerco2015[\"2015: desemprego\"].mean()\n",
    "\n",
    "plt.bar(\"Não pertence ao Mercosul\", desem1)\n",
    "plt.bar(\"Pertence ao Mercosul\", desem2)\n",
    "plt.ylabel(\"Média da % do Desemprego\")\n",
    "plt.grid()\n",
    "\n",
    "print('Média da % do Desemprego(Mercosul): ',round(desem2, 2))\n",
    "print()\n",
    "print('Média da % do Desemprego(América do Sul): ',round(desem1, 2))\n",
    "print()\n",
    "print('Mediana da % do Desemprego(Mercosul): ',round(Smerco2015[\"2015: desemprego\"].median(), 2))\n",
    "print()\n",
    "print('Mediana da % do Desemprego(América do Sul): ',round(Nmerco2015[\"2015: desemprego\"].median(), 2))\n",
    "print()"
   ]
  },
  {
   "cell_type": "markdown",
   "metadata": {},
   "source": [
    "## Média/Mediana renda 2005 (US$)"
   ]
  },
  {
   "cell_type": "code",
   "execution_count": 510,
   "metadata": {
    "scrolled": false
   },
   "outputs": [
    {
     "name": "stdout",
     "output_type": "stream",
     "text": [
      "Média da Renda(Mercosul):  7450.0\n",
      "\n",
      "Média da Renda(América do Sul):  6013.75\n",
      "\n",
      "Mediana da Renda(Mercosul):  8795.0\n",
      "\n",
      "Mediana da Renda(América do Sul):  4800.0\n",
      "\n"
     ]
    },
    {
     "data": {
      "image/png": "[encoded data removed]",
      "text/plain": [
       "<Figure size 576x288 with 1 Axes>"
      ]
     },
     "metadata": {
      "needs_background": "light"
     },
     "output_type": "display_data"
    }
   ],
   "source": [
    "figure = plt.figure(figsize=(8,4))\n",
    "desem1 = Nmerco2005[\"2005: renda\"].mean()\n",
    "desem2 = Smerco2005[\"2005: renda\"].mean()\n",
    "\n",
    "plt.bar(\"Não pertence ao Mercosul\", desem1)\n",
    "plt.bar(\"Pertence ao Mercosul\", desem2)\n",
    "plt.ylabel(\"Média da renda\")\n",
    "plt.grid() \n",
    "\n",
    "print('Média da Renda(Mercosul): ',round(desem2, 2))\n",
    "print()\n",
    "print('Média da Renda(América do Sul): ',round(desem1, 2))\n",
    "print()\n",
    "print('Mediana da Renda(Mercosul): ',round(Smerco2005[\"2005: renda\"].median(), 2))\n",
    "print()\n",
    "print('Mediana da Renda(América do Sul): ',round(Nmerco2005[\"2005: renda\"].median(), 2))\n",
    "print()"
   ]
  },
  {
   "cell_type": "markdown",
   "metadata": {},
   "source": [
    "## Média/Mediana renda 2015(US$)\n"
   ]
  },
  {
   "cell_type": "code",
   "execution_count": 513,
   "metadata": {},
   "outputs": [
    {
     "name": "stdout",
     "output_type": "stream",
     "text": [
      "Média da Renda(Mercosul):  9905.0\n",
      "\n",
      "Média da Renda(América do Sul):  6905.71\n",
      "\n",
      "Mediana da Renda(Mercosul):  10950.0\n",
      "\n",
      "Mediana da Renda(América do Sul):  5940.0\n",
      "\n"
     ]
    },
    {
     "data": {
      "image/png": "[encoded data removed]",
      "text/plain": [
       "<Figure size 576x288 with 1 Axes>"
      ]
     },
     "metadata": {
      "needs_background": "light"
     },
     "output_type": "display_data"
    }
   ],
   "source": [
    "figure = plt.figure(figsize=(8,4))\n",
    "desem1 = Nmerco2015[\"2015: renda\"].mean()\n",
    "desem2 = Smerco2015[\"2015: renda\"].mean()\n",
    "\n",
    "plt.bar(\"Não pertence ao Mercosul\", desem1)\n",
    "plt.bar(\"Pertence ao Mercosul\", desem2)\n",
    "plt.ylabel(\"Média da renda\")\n",
    "plt.grid()   \n",
    "\n",
    "print('Média da Renda(Mercosul): ',round(desem2, 2))\n",
    "print()\n",
    "print('Média da Renda(América do Sul): ',round(desem1, 2))\n",
    "print()\n",
    "print('Mediana da Renda(Mercosul): ',round(Smerco2015[\"2015: renda\"].median(), 2))\n",
    "print()\n",
    "print('Mediana da Renda(América do Sul): ',round(Nmerco2015[\"2015: renda\"].median(), 2))\n",
    "print()"
   ]
  },
  {
   "cell_type": "markdown",
   "metadata": {},
   "source": [
    "## Comparação 2005 \n",
    "\n",
    "\n",
    "\n",
    "## Países da América do Sul x Mercosul ( Desemprego )\n"
   ]
  },
  {
   "cell_type": "code",
   "execution_count": 486,
   "metadata": {
    "scrolled": false
   },
   "outputs": [
    {
     "data": {
      "text/plain": [
       "Text(0, 0.5, 'Taxa de desemprego')"
      ]
     },
     "execution_count": 486,
     "metadata": {},
     "output_type": "execute_result"
    },
    {
     "data": {
      "image/png": "[encoded data removed]",
      "text/plain": [
       "<Figure size 432x288 with 1 Axes>"
      ]
     },
     "metadata": {
      "needs_background": "light"
     },
     "output_type": "display_data"
    },
    {
     "data": {
      "image/png": "[encoded data removed]",
      "text/plain": [
       "<Figure size 432x288 with 1 Axes>"
      ]
     },
     "metadata": {
      "needs_background": "light"
     },
     "output_type": "display_data"
    }
   ],
   "source": [
    "America_sul2005.plot.bar(x=None,y=\"2005: desemprego\",color=['green', 'gold','green','gold',\"gold\",\"gold\",\"gold\",\"green\",\"gold\",\"gold\",\"green\",\"gold\"])\n",
    "plt.ylabel('Taxa de desemprego')\n",
    "dados2005.plot.bar(x=None,y=\"2005: desemprego\",color=['green'])\n",
    "plt.ylabel('Taxa de desemprego')"
   ]
  },
  {
   "cell_type": "markdown",
   "metadata": {},
   "source": [
    "## Países da América do Sul x Mercosul ( Renda US$ )"
   ]
  },
  {
   "cell_type": "code",
   "execution_count": 487,
   "metadata": {},
   "outputs": [
    {
     "data": {
      "text/plain": [
       "Text(0, 0.5, 'Renda')"
      ]
     },
     "execution_count": 487,
     "metadata": {},
     "output_type": "execute_result"
    },
    {
     "data": {
      "image/png": "[encoded data removed]",
      "text/plain": [
       "<Figure size 432x288 with 1 Axes>"
      ]
     },
     "metadata": {
      "needs_background": "light"
     },
     "output_type": "display_data"
    },
    {
     "data": {
      "image/png": "[encoded data removed]",
      "text/plain": [
       "<Figure size 432x288 with 1 Axes>"
      ]
     },
     "metadata": {
      "needs_background": "light"
     },
     "output_type": "display_data"
    }
   ],
   "source": [
    "\n",
    "America_sul2005.plot.bar(x=None,y=\"2005: renda\",color=['green', 'gold','green','gold',\"gold\",\"gold\",\"gold\",\"green\",\"gold\",\"gold\",\"green\",\"gold\"])\n",
    "plt.ylabel('Renda')\n",
    "dados2005.plot.bar(x=None,y=\"2005: renda\",color=['green'])\n",
    "plt.ylabel('Renda')"
   ]
  },
  {
   "cell_type": "markdown",
   "metadata": {},
   "source": [
    "## Comparação 2015\n",
    "## Países da América do Sul x Mercosul ( Desemprego )\n",
    "\n",
    "\n"
   ]
  },
  {
   "cell_type": "code",
   "execution_count": 488,
   "metadata": {},
   "outputs": [
    {
     "data": {
      "text/plain": [
       "Text(0, 0.5, 'Taxa de desemprego')"
      ]
     },
     "execution_count": 488,
     "metadata": {},
     "output_type": "execute_result"
    },
    {
     "data": {
      "image/png": "[encoded data removed]",
      "text/plain": [
       "<Figure size 432x288 with 1 Axes>"
      ]
     },
     "metadata": {
      "needs_background": "light"
     },
     "output_type": "display_data"
    },
    {
     "data": {
      "image/png": "[encoded data removed]",
      "text/plain": [
       "<Figure size 432x288 with 1 Axes>"
      ]
     },
     "metadata": {
      "needs_background": "light"
     },
     "output_type": "display_data"
    }
   ],
   "source": [
    "America_sul2015.plot.bar(x=None,y=\"2015: desemprego\",color=['green', 'gold','green','gold',\"gold\",\"gold\",\"gold\",\"green\",\"gold\",\"gold\",\"green\"])\n",
    "plt.ylabel('Taxa de desemprego')\n",
    "dados2015.plot.bar(x=None,y=\"2015: desemprego\",color=['green'])\n",
    "plt.ylabel('Taxa de desemprego')\n"
   ]
  },
  {
   "cell_type": "markdown",
   "metadata": {},
   "source": [
    "## Países da América do Sul x Mercosul ( RendaUS$ )\n"
   ]
  },
  {
   "cell_type": "code",
   "execution_count": 489,
   "metadata": {},
   "outputs": [
    {
     "data": {
      "text/plain": [
       "Text(0, 0.5, 'Renda')"
      ]
     },
     "execution_count": 489,
     "metadata": {},
     "output_type": "execute_result"
    },
    {
     "data": {
      "image/png": "[encoded data removed]",
      "text/plain": [
       "<Figure size 432x288 with 1 Axes>"
      ]
     },
     "metadata": {
      "needs_background": "light"
     },
     "output_type": "display_data"
    },
    {
     "data": {
      "image/png": "[encoded data removed]",
      "text/plain": [
       "<Figure size 432x288 with 1 Axes>"
      ]
     },
     "metadata": {
      "needs_background": "light"
     },
     "output_type": "display_data"
    }
   ],
   "source": [
    "America_sul2015.plot.bar(x=None,y=\"2015: renda\",color=['green', 'gold','green','gold',\"gold\",\"gold\",\"gold\",\"green\",\"gold\",\"gold\",\"green\"])\n",
    "plt.ylabel('Renda')\n",
    "dados2015.plot.bar(x=None,y=\"2015: renda\",color=['green'])\n",
    "plt.ylabel('Renda')"
   ]
  },
  {
   "cell_type": "markdown",
   "metadata": {},
   "source": [
    "## Histograma\n"
   ]
  },
  {
   "cell_type": "markdown",
   "metadata": {},
   "source": [
    "## Comparação Mercosul desemprego 2005-2015"
   ]
  },
  {
   "cell_type": "code",
   "execution_count": 490,
   "metadata": {},
   "outputs": [],
   "source": [
    "df1=America_sul2005.loc[(America_sul2005[\"Mercosul\"]==\"Sim\"),['2005: desemprego']]\n",
    "df2=America_sul2015.loc[(America_sul2005[\"Mercosul\"]==\"Sim\"),['2015: desemprego']]\n",
    "desemprego2005 = df1[\"2005: desemprego\"]\n",
    "desemprego2015 = df2[\"2015: desemprego\"]                     "
   ]
  },
  {
   "cell_type": "code",
   "execution_count": 491,
   "metadata": {
    "scrolled": true
   },
   "outputs": [
    {
     "data": {
      "image/png": "[encoded data removed]",
      "text/plain": [
       "<Figure size 1080x360 with 2 Axes>"
      ]
     },
     "metadata": {
      "needs_background": "light"
     },
     "output_type": "display_data"
    }
   ],
   "source": [
    "faixa = range(1,15,1)\n",
    "\n",
    "fig = plt.figure(figsize=(15, 5))\n",
    "plt.subplot(131)\n",
    "plot = desemprego2005.plot.hist(bins=faixa,title='HISTOGRAMA - 2005', density=True, color='green', alpha=0.5)\n",
    "plt.ylabel('Densidade')\n",
    "plt.xlabel('Taxa de desemprego')\n",
    "\n",
    "plt.subplot(132)\n",
    "plot = desemprego2015.plot.hist(bins=faixa,title='HISTOGRAMA - 2015', density=True, color='red', alpha=0.9)\n",
    "plt.ylabel('Densidade')\n",
    "plt.xlabel('Taxa de desemprego')\n",
    "\n",
    "\n",
    "plt.tight_layout()\n",
    "plt.show()"
   ]
  },
  {
   "cell_type": "markdown",
   "metadata": {},
   "source": [
    "## Comparação desemprego não Mercosul 2005-2015"
   ]
  },
  {
   "cell_type": "code",
   "execution_count": 492,
   "metadata": {},
   "outputs": [],
   "source": [
    "df1=America_sul2005.loc[(America_sul2005[\"Mercosul\"]==\"Não\"),['2005: desemprego']]\n",
    "df2=America_sul2015.loc[(America_sul2005[\"Mercosul\"]==\"Não\"),['2015: desemprego']]\n",
    "desemprego2005 = df1[\"2005: desemprego\"]\n",
    "desemprego2015 = df2[\"2015: desemprego\"]                     "
   ]
  },
  {
   "cell_type": "code",
   "execution_count": 493,
   "metadata": {},
   "outputs": [
    {
     "data": {
      "image/png": "[encoded data removed]",
      "text/plain": [
       "<Figure size 1080x360 with 2 Axes>"
      ]
     },
     "metadata": {
      "needs_background": "light"
     },
     "output_type": "display_data"
    }
   ],
   "source": [
    "faixa = range(1,15,1)\n",
    "\n",
    "fig = plt.figure(figsize=(15, 5))\n",
    "plt.subplot(131)\n",
    "plot = desemprego2005.plot.hist(bins=faixa,title='HISTOGRAMA - 2005', density=True, color='green', alpha=0.5)\n",
    "plt.ylabel('Densidade')\n",
    "plt.xlabel('Taxa de desemprego')\n",
    "\n",
    "plt.subplot(132)\n",
    "plot = desemprego2015.plot.hist(bins=faixa,title='HISTOGRAMA - 2015', density=True, color='red', alpha=0.9)\n",
    "plt.ylabel('Densidade')\n",
    "plt.xlabel('Taxa de desemprego')\n",
    "\n",
    "\n",
    "plt.tight_layout()\n",
    "plt.show()"
   ]
  },
  {
   "cell_type": "markdown",
   "metadata": {},
   "source": [
    "## Comparação renda(US$) Mercosul 2005-2015"
   ]
  },
  {
   "cell_type": "code",
   "execution_count": 494,
   "metadata": {},
   "outputs": [],
   "source": [
    "df1=America_sul2005.loc[(America_sul2005[\"Mercosul\"]==\"Sim\"),['2005: renda']]\n",
    "df2=America_sul2015.loc[(America_sul2005[\"Mercosul\"]==\"Sim\"),['2015: renda']]\n",
    "renda2005 = df1[\"2005: renda\"]\n",
    "renda2015 = df2[\"2015: renda\"]          "
   ]
  },
  {
   "cell_type": "code",
   "execution_count": 495,
   "metadata": {},
   "outputs": [
    {
     "data": {
      "image/png": "[encoded data removed]",
      "text/plain": [
       "<Figure size 1080x360 with 2 Axes>"
      ]
     },
     "metadata": {
      "needs_background": "light"
     },
     "output_type": "display_data"
    }
   ],
   "source": [
    "faixa = range(1000,14000,1000)\n",
    "\n",
    "fig = plt.figure(figsize=(15, 5))\n",
    "\n",
    "\n",
    "plt.subplot(131)\n",
    "plot = renda2005.plot.hist(bins=faixa,title='HISTOGRAMA - 2005', density=True, color='green', alpha=0.5)\n",
    "plt.ylabel('Densidade')\n",
    "plt.xlabel('Renda')\n",
    "\n",
    "plt.subplot(132)\n",
    "plot = renda2015.plot.hist(bins=faixa,title='HISTOGRAMA - 2015', density=True, color='red', alpha=0.9)\n",
    "plt.ylabel('Densidade')\n",
    "plt.xlabel('Renda')\n",
    "\n",
    "\n",
    "plt.tight_layout()\n",
    "plt.show()"
   ]
  },
  {
   "cell_type": "markdown",
   "metadata": {},
   "source": [
    "## Comparação renda(US$) não Mercosul 2005-2015"
   ]
  },
  {
   "cell_type": "code",
   "execution_count": 496,
   "metadata": {},
   "outputs": [],
   "source": [
    "df1=America_sul2005.loc[(America_sul2005[\"Mercosul\"]==\"Não\"),['2005: renda']]\n",
    "df2=America_sul2015.loc[(America_sul2005[\"Mercosul\"]==\"Não\"),['2015: renda']]\n",
    "renda2005 = df1[\"2005: renda\"]\n",
    "renda2015 = df2[\"2015: renda\"]        "
   ]
  },
  {
   "cell_type": "code",
   "execution_count": 497,
   "metadata": {},
   "outputs": [
    {
     "data": {
      "image/png": "[encoded data removed]",
      "text/plain": [
       "<Figure size 1080x360 with 2 Axes>"
      ]
     },
     "metadata": {
      "needs_background": "light"
     },
     "output_type": "display_data"
    }
   ],
   "source": [
    "faixa = range(1000,14000,1000)\n",
    "\n",
    "fig = plt.figure(figsize=(15, 5))\n",
    "plt.subplot(131)\n",
    "plot = renda2005.plot.hist(bins=faixa,title='HISTOGRAMA - 2005', density=True, color='green', alpha=0.5)\n",
    "plt.ylabel('Densidade')\n",
    "plt.xlabel('Renda')\n",
    "\n",
    "plt.subplot(132)\n",
    "plot = renda2015.plot.hist(bins=faixa,title='HISTOGRAMA - 2015', density=True, color='red', alpha=0.9)\n",
    "plt.ylabel('Densidade')\n",
    "plt.xlabel('Renda')\n",
    "\n",
    "\n",
    "plt.tight_layout()\n",
    "plt.show()"
   ]
  },
  {
   "cell_type": "markdown",
   "metadata": {},
   "source": [
    "## Conclusão"
   ]
  },
  {
   "cell_type": "markdown",
   "metadata": {},
   "source": [
    "Responda à pergunta, argumento da melhor forma possível com base nos dados"
   ]
  },
  {
   "cell_type": "code",
   "execution_count": null,
   "metadata": {},
   "outputs": [],
   "source": []
  },
  {
   "cell_type": "code",
   "execution_count": null,
   "metadata": {},
   "outputs": [],
   "source": []
  }
 ],
 "metadata": {
  "kernelspec": {
   "display_name": "Python 3",
   "language": "python",
   "name": "python3"
  },
  "language_info": {
   "codemirror_mode": {
    "name": "ipython",
    "version": 3
   },
   "file_extension": ".py",
   "mimetype": "text/x-python",
   "name": "python",
   "nbconvert_exporter": "python",
   "pygments_lexer": "ipython3",
   "version": "3.7.1"
  }
 },
 "nbformat": 4,
 "nbformat_minor": 2
}
